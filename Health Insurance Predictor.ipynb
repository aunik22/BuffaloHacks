{
 "cells": [
  {
   "cell_type": "code",
   "execution_count": 173,
   "metadata": {},
   "outputs": [],
   "source": [
    "import numpy as np\n",
    "import pandas as pd\n",
    "from sklearn.preprocessing import LabelEncoder,OneHotEncoder\n",
    "from sklearn.linear_model import LinearRegression\n",
    "import math\n",
    "import matplotlib.pyplot\n",
    "from matplotlib import pyplot as plt\n",
    "from sklearn.linear_model import LinearRegression"
   ]
  },
  {
   "cell_type": "code",
   "execution_count": 174,
   "metadata": {},
   "outputs": [],
   "source": [
    "trainingPercent = 90\n",
    "testingPercent = 10\n",
    "epochs = 10000\n",
    "learningRate = 0.01"
   ]
  },
  {
   "cell_type": "code",
   "execution_count": 175,
   "metadata": {},
   "outputs": [],
   "source": [
    "def readData(fileName):\n",
    "    df = pd.read_csv(fileName)\n",
    "    return df"
   ]
  },
  {
   "cell_type": "code",
   "execution_count": 176,
   "metadata": {},
   "outputs": [],
   "source": [
    "df = readData(\"insurance.csv\")"
   ]
  },
  {
   "cell_type": "code",
   "execution_count": 177,
   "metadata": {},
   "outputs": [
    {
     "name": "stdout",
     "output_type": "stream",
     "text": [
      "   age     sex     bmi  children smoker     region      charges\n",
      "0   19  female  27.900         0    yes  southwest  16884.92400\n",
      "1   18    male  33.770         1     no  southeast   1725.55230\n",
      "2   28    male  33.000         3     no  southeast   4449.46200\n",
      "3   33    male  22.705         0     no  northwest  21984.47061\n",
      "4   32    male  28.880         0     no  northwest   3866.85520\n"
     ]
    }
   ],
   "source": [
    "print(df.head())"
   ]
  },
  {
   "cell_type": "code",
   "execution_count": 178,
   "metadata": {},
   "outputs": [],
   "source": [
    "def encodeData(df):\n",
    "    sex = df.iloc[:,:].values\n",
    "    labelEncoder = LabelEncoder()\n",
    "    sex[:,1] = labelEncoder.fit_transform(sex[:,1])\n",
    "    step1 = pd.DataFrame(sex)\n",
    "    \n",
    "    smoker = step1.iloc[:,:].values\n",
    "    smoker[:,4] = labelEncoder.fit_transform(smoker[:,4])\n",
    "    step2 = pd.DataFrame(smoker)\n",
    "    \n",
    "    region = step2.iloc[:,:].values\n",
    "    region[:,5] = labelEncoder.fit_transform(region[:,5])\n",
    "    return pd.DataFrame(region)"
   ]
  },
  {
   "cell_type": "code",
   "execution_count": 179,
   "metadata": {},
   "outputs": [],
   "source": [
    "df = encodeData(df)"
   ]
  },
  {
   "cell_type": "code",
   "execution_count": 180,
   "metadata": {},
   "outputs": [],
   "source": [
    "def normalizeData(df):\n",
    "    df_norm = (df - df.mean()) / (df.max() - df.min())\n",
    "    return df_norm"
   ]
  },
  {
   "cell_type": "code",
   "execution_count": 181,
   "metadata": {},
   "outputs": [],
   "source": [
    "df = normalizeData(df)"
   ]
  },
  {
   "cell_type": "code",
   "execution_count": 182,
   "metadata": {},
   "outputs": [],
   "source": [
    "def shuffleData(df):\n",
    "    shuffled = df.sample(frac=1).reset_index(drop=True)\n",
    "    return shuffled"
   ]
  },
  {
   "cell_type": "code",
   "execution_count": 183,
   "metadata": {},
   "outputs": [],
   "source": [
    "df = shuffleData(df)"
   ]
  },
  {
   "cell_type": "code",
   "execution_count": 184,
   "metadata": {},
   "outputs": [],
   "source": [
    "def getTrainingAndTesting(df,trainingPercent):\n",
    "    percentData = int(math.ceil((len(df))*(trainingPercent*0.01)))\n",
    "    trainingFeatures = df.iloc[0:percentData,0:5].values\n",
    "    trainingTargets = df.iloc[0:percentData,6:7].values\n",
    "    testingFeatures = df.iloc[percentData:df.shape[0],0:5].values\n",
    "    testingTargets = df.iloc[percentData:df.shape[0],6:7].values\n",
    "    return trainingFeatures,trainingTargets,testingFeatures,testingTargets"
   ]
  },
  {
   "cell_type": "code",
   "execution_count": 185,
   "metadata": {},
   "outputs": [
    {
     "name": "stdout",
     "output_type": "stream",
     "text": [
      "(1205, 5)\n"
     ]
    }
   ],
   "source": [
    "trF,trT,teF,teT = getTrainingAndTesting(df,trainingPercent)\n",
    "print(trF.shape)"
   ]
  },
  {
   "cell_type": "code",
   "execution_count": 186,
   "metadata": {},
   "outputs": [],
   "source": [
    "def getMatrices(x):\n",
    "    ones = np.ones([x.shape[0],1])\n",
    "    x = np.concatenate((ones,x),axis=1)\n",
    "    weights = np.zeros([1,x.shape[1]])\n",
    "    return x,weights"
   ]
  },
  {
   "cell_type": "code",
   "execution_count": 187,
   "metadata": {},
   "outputs": [
    {
     "name": "stdout",
     "output_type": "stream",
     "text": [
      "(1, 6)\n"
     ]
    }
   ],
   "source": [
    "featureMatrix,weights_train = getMatrices(trF)\n",
    "testFeatureMatrix,w = getMatrices(teF)\n",
    "print(weights.shape)"
   ]
  },
  {
   "cell_type": "code",
   "execution_count": 188,
   "metadata": {},
   "outputs": [],
   "source": [
    "def costFunction(x,train_y,weights):\n",
    "    error = np.power(((x @ weights.T)-train_y),2)\n",
    "    temp = np.sum(error)/(2 * len(x))\n",
    "    return math.sqrt(temp/len(train_y))"
   ]
  },
  {
   "cell_type": "code",
   "execution_count": 191,
   "metadata": {},
   "outputs": [],
   "source": [
    "reg = LinearRegression().fit(trF, trT)"
   ]
  },
  {
   "cell_type": "code",
   "execution_count": 192,
   "metadata": {},
   "outputs": [
    {
     "data": {
      "text/plain": [
       "0.7560525851806927"
      ]
     },
     "execution_count": 192,
     "metadata": {},
     "output_type": "execute_result"
    }
   ],
   "source": [
    "reg.score(trF, trT)"
   ]
  },
  {
   "cell_type": "code",
   "execution_count": 220,
   "metadata": {},
   "outputs": [
    {
     "name": "stdout",
     "output_type": "stream",
     "text": [
      "[[ 0.18873942 -0.00285686  0.19994857  0.03614326  0.38295293]]\n"
     ]
    }
   ],
   "source": [
    "w = reg.coef_\n",
    "print(w)"
   ]
  },
  {
   "cell_type": "code",
   "execution_count": 219,
   "metadata": {},
   "outputs": [
    {
     "name": "stdout",
     "output_type": "stream",
     "text": [
      "[0.0008109]\n"
     ]
    }
   ],
   "source": [
    "b = reg.intercept_\n",
    "print(b)"
   ]
  },
  {
   "cell_type": "code",
   "execution_count": 221,
   "metadata": {},
   "outputs": [],
   "source": [
    "finalWeights = [0.0008109,0.18873942,-0.00285686,0.19994857,0.03614326,0.38295293]"
   ]
  },
  {
   "cell_type": "code",
   "execution_count": null,
   "metadata": {},
   "outputs": [],
   "source": []
  }
 ],
 "metadata": {
  "kernelspec": {
   "display_name": "Python 3",
   "language": "python",
   "name": "python3"
  },
  "language_info": {
   "codemirror_mode": {
    "name": "ipython",
    "version": 3
   },
   "file_extension": ".py",
   "mimetype": "text/x-python",
   "name": "python",
   "nbconvert_exporter": "python",
   "pygments_lexer": "ipython3",
   "version": "3.6.5"
  }
 },
 "nbformat": 4,
 "nbformat_minor": 2
}
