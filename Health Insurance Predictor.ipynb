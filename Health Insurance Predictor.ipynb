{
 "cells": [
  {
   "cell_type": "code",
   "execution_count": 10,
   "metadata": {},
   "outputs": [],
   "source": [
    "import numpy as np\n",
    "import pandas as pd\n",
    "from sklearn.preprocessing import LabelEncoder\n",
    "from sklearn.linear_model import LinearRegression\n",
    "import math\n",
    "import matplotlib.pyplot\n",
    "from matplotlib import pyplot as plt"
   ]
  },
  {
   "cell_type": "code",
   "execution_count": 11,
   "metadata": {},
   "outputs": [],
   "source": [
    "trainingPercent = 90\n",
    "testingPercent = 10\n",
    "epochs = 10000\n",
    "learningRate = 0.01"
   ]
  },
  {
   "cell_type": "code",
   "execution_count": 12,
   "metadata": {},
   "outputs": [],
   "source": [
    "def readData(fileName):\n",
    "    df = pd.read_csv(fileName)\n",
    "    return df"
   ]
  },
  {
   "cell_type": "code",
   "execution_count": 13,
   "metadata": {},
   "outputs": [],
   "source": [
    "df = readData(\"insurance.csv\")"
   ]
  },
  {
   "cell_type": "code",
   "execution_count": 14,
   "metadata": {},
   "outputs": [],
   "source": [
    "def encodeData(df):\n",
    "    sex = df.iloc[:,:].values\n",
    "    labelEncoder = LabelEncoder()\n",
    "    sex[:,1] = labelEncoder.fit_transform(sex[:,1])\n",
    "    step1 = pd.DataFrame(sex)\n",
    "    \n",
    "    smoker = step1.iloc[:,:].values\n",
    "    smoker[:,4] = labelEncoder.fit_transform(smoker[:,4])\n",
    "    step2 = pd.DataFrame(smoker)\n",
    "    \n",
    "    region = step2.iloc[:,:].values\n",
    "    region[:,5] = labelEncoder.fit_transform(region[:,5])\n",
    "    return pd.DataFrame(region)"
   ]
  },
  {
   "cell_type": "code",
   "execution_count": 15,
   "metadata": {},
   "outputs": [],
   "source": [
    "df = encodeData(df)"
   ]
  },
  {
   "cell_type": "code",
   "execution_count": 16,
   "metadata": {},
   "outputs": [],
   "source": [
    "def normalizeData(df):\n",
    "    df_norm = (df - df.mean()) / (df.max() - df.min())\n",
    "    return df_norm,df.mean(),df.max(),df.min()"
   ]
  },
  {
   "cell_type": "code",
   "execution_count": 17,
   "metadata": {},
   "outputs": [
    {
     "name": "stdout",
     "output_type": "stream",
     "text": [
      "0       39.207025\n",
      "1        0.505232\n",
      "2       30.663397\n",
      "3        1.094918\n",
      "4        0.204783\n",
      "5        1.515695\n",
      "6    13270.422265\n",
      "dtype: float64\n"
     ]
    }
   ],
   "source": [
    "df,mean,maximum,minimum = normalizeData(df)\n",
    "print(mean)"
   ]
  },
  {
   "cell_type": "code",
   "execution_count": 18,
   "metadata": {},
   "outputs": [
    {
     "name": "stdout",
     "output_type": "stream",
     "text": [
      "0       64.00000\n",
      "1        1.00000\n",
      "2       53.13000\n",
      "3        5.00000\n",
      "4        1.00000\n",
      "5        3.00000\n",
      "6    63770.42801\n",
      "dtype: float64\n"
     ]
    }
   ],
   "source": [
    "print(maximum)"
   ]
  },
  {
   "cell_type": "code",
   "execution_count": 19,
   "metadata": {},
   "outputs": [
    {
     "name": "stdout",
     "output_type": "stream",
     "text": [
      "0      18.0000\n",
      "1       0.0000\n",
      "2      15.9600\n",
      "3       0.0000\n",
      "4       0.0000\n",
      "5       0.0000\n",
      "6    1121.8739\n",
      "dtype: float64\n"
     ]
    }
   ],
   "source": [
    "print(minimum)"
   ]
  },
  {
   "cell_type": "code",
   "execution_count": 20,
   "metadata": {},
   "outputs": [],
   "source": [
    "def shuffleData(df):\n",
    "    shuffled = df.sample(frac=1).reset_index(drop=True)\n",
    "    return shuffled"
   ]
  },
  {
   "cell_type": "code",
   "execution_count": 21,
   "metadata": {},
   "outputs": [],
   "source": [
    "df = shuffleData(df)"
   ]
  },
  {
   "cell_type": "code",
   "execution_count": 22,
   "metadata": {},
   "outputs": [],
   "source": [
    "def getTrainingAndTesting(df,trainingPercent):\n",
    "    percentData = int(math.ceil((len(df))*(trainingPercent*0.01)))\n",
    "    trainingFeatures = df.iloc[0:percentData,0:6]\n",
    "    trainingTargets = df.iloc[0:percentData,6:7]\n",
    "    testingFeatures = df.iloc[percentData:df.shape[0],0:6]\n",
    "    testingTargets = df.iloc[percentData:df.shape[0],6:7]\n",
    "    return trainingFeatures,trainingTargets,testingFeatures,testingTargets"
   ]
  },
  {
   "cell_type": "code",
   "execution_count": 23,
   "metadata": {},
   "outputs": [],
   "source": [
    "trF,trT,teF,teT = getTrainingAndTesting(df,trainingPercent)"
   ]
  },
  {
   "cell_type": "code",
   "execution_count": 24,
   "metadata": {},
   "outputs": [],
   "source": [
    "reg = LinearRegression().fit(trF, trT)"
   ]
  },
  {
   "cell_type": "code",
   "execution_count": 25,
   "metadata": {},
   "outputs": [
    {
     "data": {
      "text/plain": [
       "0.7466437226760374"
      ]
     },
     "execution_count": 25,
     "metadata": {},
     "output_type": "execute_result"
    }
   ],
   "source": [
    "reg.score(trF, trT)"
   ]
  },
  {
   "cell_type": "code",
   "execution_count": 26,
   "metadata": {},
   "outputs": [
    {
     "data": {
      "text/plain": [
       "array([[ 0.18647177, -0.00100898,  0.2049251 ,  0.03886722,  0.37976515,\n",
       "        -0.01930108]])"
      ]
     },
     "execution_count": 26,
     "metadata": {},
     "output_type": "execute_result"
    }
   ],
   "source": [
    "reg.coef_"
   ]
  },
  {
   "cell_type": "code",
   "execution_count": 27,
   "metadata": {},
   "outputs": [
    {
     "data": {
      "text/plain": [
       "array([0.00113973])"
      ]
     },
     "execution_count": 27,
     "metadata": {},
     "output_type": "execute_result"
    }
   ],
   "source": [
    "reg.intercept_"
   ]
  },
  {
   "cell_type": "code",
   "execution_count": null,
   "metadata": {},
   "outputs": [],
   "source": [
    "finaleWeights = [0.00113973,0.18647177,-0.00100898,0.2049251 ,0.03886722,0.37976515,-0.01930108]"
   ]
  },
  {
   "cell_type": "code",
   "execution_count": null,
   "metadata": {},
   "outputs": [],
   "source": []
  }
 ],
 "metadata": {
  "kernelspec": {
   "display_name": "Python 3",
   "language": "python",
   "name": "python3"
  },
  "language_info": {
   "codemirror_mode": {
    "name": "ipython",
    "version": 3
   },
   "file_extension": ".py",
   "mimetype": "text/x-python",
   "name": "python",
   "nbconvert_exporter": "python",
   "pygments_lexer": "ipython3",
   "version": "3.6.5"
  }
 },
 "nbformat": 4,
 "nbformat_minor": 2
}
