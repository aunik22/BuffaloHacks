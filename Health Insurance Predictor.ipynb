{
 "cells": [
  {
   "cell_type": "code",
   "execution_count": 656,
   "metadata": {},
   "outputs": [],
   "source": [
    "import numpy as np\n",
    "import pandas as pd\n",
    "from sklearn.preprocessing import LabelEncoder,OneHotEncoder\n",
    "from sklearn.linear_model import LinearRegression\n",
    "import math\n",
    "import matplotlib.pyplot\n",
    "from matplotlib import pyplot as plt"
   ]
  },
  {
   "cell_type": "code",
   "execution_count": 657,
   "metadata": {},
   "outputs": [],
   "source": [
    "trainingPercent = 90\n",
    "testingPercent = 10\n",
    "epochs = 10000\n",
    "learningRate = 0.01"
   ]
  },
  {
   "cell_type": "code",
   "execution_count": 658,
   "metadata": {},
   "outputs": [],
   "source": [
    "def readData(fileName):\n",
    "    df = pd.read_csv(fileName)\n",
    "    return df"
   ]
  },
  {
   "cell_type": "code",
   "execution_count": 659,
   "metadata": {},
   "outputs": [
    {
     "name": "stdout",
     "output_type": "stream",
     "text": [
      "   age     sex     bmi  children smoker     region      charges\n",
      "0   19  female  27.900         0    yes  southwest  16884.92400\n",
      "1   18    male  33.770         1     no  southeast   1725.55230\n",
      "2   28    male  33.000         3     no  southeast   4449.46200\n",
      "3   33    male  22.705         0     no  northwest  21984.47061\n",
      "4   32    male  28.880         0     no  northwest   3866.85520\n"
     ]
    }
   ],
   "source": [
    "df = readData(\"insurance.csv\")\n",
    "print(df.head())"
   ]
  },
  {
   "cell_type": "code",
   "execution_count": 660,
   "metadata": {},
   "outputs": [],
   "source": [
    "def encodeData(df):\n",
    "    encode = LabelEncoder()\n",
    "    df = df.iloc[:,:].values\n",
    "    df[:,1] = encode.fit_transform(df[:,1])\n",
    "    df[:,4] = encode.fit_transform(df[:,4])\n",
    "    df[:,5] = encode.fit_transform(df[:,5])\n",
    "    return df"
   ]
  },
  {
   "cell_type": "code",
   "execution_count": 661,
   "metadata": {},
   "outputs": [],
   "source": [
    "df = encodeData(df)"
   ]
  },
  {
   "cell_type": "code",
   "execution_count": 662,
   "metadata": {},
   "outputs": [
    {
     "name": "stdout",
     "output_type": "stream",
     "text": [
      "[[19 0 27.9 0 1 3 16884.924]\n",
      " [18 1 33.77 1 0 2 1725.5523]\n",
      " [28 1 33.0 3 0 2 4449.462]\n",
      " [33 1 22.705 0 0 1 21984.47061]\n",
      " [32 1 28.88 0 0 1 3866.8552]]\n"
     ]
    }
   ],
   "source": [
    "print(df[0:5])"
   ]
  },
  {
   "cell_type": "code",
   "execution_count": 663,
   "metadata": {},
   "outputs": [],
   "source": [
    "encode = OneHotEncoder(categorical_features=[1])\n",
    "df = encode.fit_transform(df).toarray()\n",
    "encode = OneHotEncoder(categorical_features=[5])\n",
    "df = encode.fit_transform(df).toarray()\n",
    "encode = OneHotEncoder(categorical_features=[7])\n",
    "df = encode.fit_transform(df).toarray()"
   ]
  },
  {
   "cell_type": "code",
   "execution_count": 664,
   "metadata": {},
   "outputs": [
    {
     "name": "stdout",
     "output_type": "stream",
     "text": [
      "[0.0000000e+00 0.0000000e+00 0.0000000e+00 1.0000000e+00 0.0000000e+00\n",
      " 1.0000000e+00 1.0000000e+00 0.0000000e+00 1.9000000e+01 2.7900000e+01\n",
      " 0.0000000e+00 1.6884924e+04]\n"
     ]
    }
   ],
   "source": [
    "print(df[0])"
   ]
  },
  {
   "cell_type": "code",
   "execution_count": 665,
   "metadata": {},
   "outputs": [],
   "source": [
    "df = pd.DataFrame(df)"
   ]
  },
  {
   "cell_type": "code",
   "execution_count": 666,
   "metadata": {},
   "outputs": [
    {
     "name": "stdout",
     "output_type": "stream",
     "text": [
      "    0    1    2    3    4    5    6    7     8       9    10           11\n",
      "0  0.0  0.0  0.0  1.0  0.0  1.0  1.0  0.0  19.0  27.900  0.0  16884.92400\n",
      "1  0.0  0.0  1.0  0.0  1.0  0.0  0.0  1.0  18.0  33.770  1.0   1725.55230\n",
      "2  0.0  0.0  1.0  0.0  1.0  0.0  0.0  1.0  28.0  33.000  3.0   4449.46200\n",
      "3  0.0  1.0  0.0  0.0  1.0  0.0  0.0  1.0  33.0  22.705  0.0  21984.47061\n",
      "4  0.0  1.0  0.0  0.0  1.0  0.0  0.0  1.0  32.0  28.880  0.0   3866.85520\n"
     ]
    }
   ],
   "source": [
    "print(df.head())"
   ]
  },
  {
   "cell_type": "code",
   "execution_count": 667,
   "metadata": {},
   "outputs": [],
   "source": [
    "def normalizeData(df):\n",
    "    df[8] = df[8]/df[8].max()\n",
    "    df[9] = df[9]/df[9].max()\n",
    "    df[11] = df[11]/df[11].max()\n",
    "    return df"
   ]
  },
  {
   "cell_type": "code",
   "execution_count": 668,
   "metadata": {},
   "outputs": [],
   "source": [
    "df = normalizeData(df)"
   ]
  },
  {
   "cell_type": "code",
   "execution_count": 669,
   "metadata": {},
   "outputs": [
    {
     "name": "stdout",
     "output_type": "stream",
     "text": [
      "    0    1    2    3    4    5    6    7         8         9    10        11\n",
      "0  0.0  0.0  0.0  1.0  0.0  1.0  1.0  0.0  0.296875  0.525127  0.0  0.264777\n",
      "1  0.0  0.0  1.0  0.0  1.0  0.0  0.0  1.0  0.281250  0.635611  1.0  0.027059\n",
      "2  0.0  0.0  1.0  0.0  1.0  0.0  0.0  1.0  0.437500  0.621118  3.0  0.069773\n",
      "3  0.0  1.0  0.0  0.0  1.0  0.0  0.0  1.0  0.515625  0.427348  0.0  0.344744\n",
      "4  0.0  1.0  0.0  0.0  1.0  0.0  0.0  1.0  0.500000  0.543572  0.0  0.060637\n"
     ]
    }
   ],
   "source": [
    "print(df.head())"
   ]
  },
  {
   "cell_type": "code",
   "execution_count": 670,
   "metadata": {},
   "outputs": [],
   "source": [
    "array = df.iloc[:,:].values"
   ]
  },
  {
   "cell_type": "code",
   "execution_count": 671,
   "metadata": {},
   "outputs": [
    {
     "name": "stdout",
     "output_type": "stream",
     "text": [
      "[0.         0.         0.         1.         0.         1.\n",
      " 1.         0.         0.296875   0.52512705 0.         0.26477671]\n"
     ]
    }
   ],
   "source": [
    "print(array[0])"
   ]
  },
  {
   "cell_type": "code",
   "execution_count": 672,
   "metadata": {},
   "outputs": [],
   "source": [
    "def shuffleData(df):\n",
    "    shuffled = df.sample(frac=1).reset_index(drop=True)\n",
    "    return shuffled"
   ]
  },
  {
   "cell_type": "code",
   "execution_count": 673,
   "metadata": {},
   "outputs": [],
   "source": [
    "np.random.shuffle(array)"
   ]
  },
  {
   "cell_type": "code",
   "execution_count": 674,
   "metadata": {},
   "outputs": [
    {
     "name": "stdout",
     "output_type": "stream",
     "text": [
      "[0.         1.         0.         0.         1.         0.\n",
      " 1.         0.         0.453125   0.38085827 2.         0.07693863]\n"
     ]
    }
   ],
   "source": [
    "print(array[0])"
   ]
  },
  {
   "cell_type": "code",
   "execution_count": 675,
   "metadata": {},
   "outputs": [],
   "source": [
    "df = pd.DataFrame(array)"
   ]
  },
  {
   "cell_type": "code",
   "execution_count": 676,
   "metadata": {},
   "outputs": [
    {
     "name": "stdout",
     "output_type": "stream",
     "text": [
      "    0    1    2    3    4    5    6    7         8         9    10        11\n",
      "0  0.0  1.0  0.0  0.0  1.0  0.0  1.0  0.0  0.453125  0.380858  2.0  0.076939\n",
      "1  0.0  0.0  1.0  0.0  1.0  0.0  0.0  1.0  0.406250  0.548654  1.0  0.045521\n",
      "2  0.0  0.0  1.0  0.0  0.0  1.0  0.0  1.0  0.421875  0.585921  1.0  0.545809\n",
      "3  1.0  0.0  0.0  0.0  0.0  1.0  1.0  0.0  0.578125  0.579334  0.0  0.584443\n",
      "4  1.0  0.0  0.0  0.0  1.0  0.0  0.0  1.0  0.453125  0.557877  1.0  0.317981\n"
     ]
    }
   ],
   "source": [
    "print(df.head())"
   ]
  },
  {
   "cell_type": "code",
   "execution_count": 677,
   "metadata": {},
   "outputs": [],
   "source": [
    "def getTrainingAndTesting(df,trainingPercent):\n",
    "    percentData = int(math.ceil((len(df))*(trainingPercent*0.01)))\n",
    "    trainingFeatures = df.iloc[0:percentData,0:11].values\n",
    "    trainingTargets = df.iloc[0:percentData,11:12].values\n",
    "    testingFeatures = df.iloc[percentData:df.shape[0],0:11].values\n",
    "    testingTargets = df.iloc[percentData:df.shape[0],11:12].values\n",
    "    return trainingFeatures,trainingTargets,testingFeatures,testingTargets"
   ]
  },
  {
   "cell_type": "code",
   "execution_count": 678,
   "metadata": {},
   "outputs": [],
   "source": [
    "trF,trT,teF,teT = getTrainingAndTesting(df,trainingPercent)"
   ]
  },
  {
   "cell_type": "code",
   "execution_count": 679,
   "metadata": {},
   "outputs": [
    {
     "name": "stdout",
     "output_type": "stream",
     "text": [
      "[0.         1.         0.         0.         1.         0.\n",
      " 1.         0.         0.453125   0.38085827 2.        ]\n"
     ]
    }
   ],
   "source": [
    "print(trF[0])"
   ]
  },
  {
   "cell_type": "code",
   "execution_count": 680,
   "metadata": {},
   "outputs": [],
   "source": [
    "def getMatrices(x):\n",
    "    ones = np.ones([x.shape[0],1])\n",
    "    x = np.concatenate((ones,x),axis=1)\n",
    "    weights = np.zeros([1,x.shape[1]])\n",
    "    return x,weights"
   ]
  },
  {
   "cell_type": "code",
   "execution_count": 681,
   "metadata": {},
   "outputs": [],
   "source": [
    "x,w = getMatrices(trF)"
   ]
  },
  {
   "cell_type": "code",
   "execution_count": 682,
   "metadata": {},
   "outputs": [
    {
     "name": "stdout",
     "output_type": "stream",
     "text": [
      "[[0. 0. 0. 0. 0. 0. 0. 0. 0. 0. 0. 0.]]\n",
      "[[1.         0.         1.         ... 0.453125   0.38085827 2.        ]\n",
      " [1.         0.         0.         ... 0.40625    0.54865424 1.        ]\n",
      " [1.         0.         0.         ... 0.421875   0.58592133 1.        ]\n",
      " ...\n",
      " [1.         0.         0.         ... 0.5        0.46301525 0.        ]\n",
      " [1.         0.         0.         ... 0.875      0.47619048 0.        ]\n",
      " [1.         0.         0.         ... 0.921875   0.49689441 0.        ]]\n"
     ]
    }
   ],
   "source": [
    "print(w)\n",
    "print(x)"
   ]
  },
  {
   "cell_type": "code",
   "execution_count": 683,
   "metadata": {},
   "outputs": [],
   "source": [
    "def costFunction(x,train_y,weights):\n",
    "    error = np.power(((x @ weights.T)-train_y),2)\n",
    "    temp = np.sum(error)/(2 * len(x))\n",
    "    return math.sqrt(temp/len(train_y))"
   ]
  },
  {
   "cell_type": "code",
   "execution_count": 684,
   "metadata": {},
   "outputs": [],
   "source": [
    "def gradientDescent(x,y,epochs,learningRate,weights):\n",
    "    error = np.zeros(epochs)\n",
    "    for i in range(epochs):\n",
    "        weights = weights - (learningRate/len(x)) * np.sum(x * (x @ weights.T - y), axis=0)\n",
    "        error[i] = costFunction(x, y, weights)\n",
    "    return weights,error"
   ]
  },
  {
   "cell_type": "code",
   "execution_count": 685,
   "metadata": {},
   "outputs": [],
   "source": [
    "y,ww = getMatrices(teF)"
   ]
  },
  {
   "cell_type": "code",
   "execution_count": 686,
   "metadata": {},
   "outputs": [
    {
     "name": "stdout",
     "output_type": "stream",
     "text": [
      "[1.         0.         0.         0.         1.         1.\n",
      " 0.         0.         1.         0.8125     0.56841709 1.        ]\n"
     ]
    }
   ],
   "source": [
    "print(y[0])"
   ]
  },
  {
   "cell_type": "code",
   "execution_count": 687,
   "metadata": {},
   "outputs": [],
   "source": [
    "fw,error = gradientDescent(x,trT,epochs,learningRate,w)"
   ]
  },
  {
   "cell_type": "code",
   "execution_count": 688,
   "metadata": {},
   "outputs": [
    {
     "name": "stdout",
     "output_type": "stream",
     "text": [
      "[[ 0.01666938  0.01236114  0.00492266  0.0028857  -0.00350013 -0.18038337\n",
      "   0.19705275  0.00829951  0.00836987  0.25329431  0.20778187  0.00676421]]\n"
     ]
    }
   ],
   "source": [
    "print(fw)"
   ]
  },
  {
   "cell_type": "code",
   "execution_count": 689,
   "metadata": {},
   "outputs": [],
   "source": [
    "def getAccuracy(finalWeights,x,y):\n",
    "    Y = np.dot(finalWeights,np.transpose(x))\n",
    "    Y = Y.ravel()\n",
    "    y = y.ravel()\n",
    "    print(len(Y))\n",
    "    print(len(y))\n",
    "    counter = 0\n",
    "    for i in range (0,len(Y)):\n",
    "            if(Y[i].round() == y[i].round()):\n",
    "                counter+=1\n",
    "    accuracy = (float((counter*100))/float(len(Y)))\n",
    "    return accuracy"
   ]
  },
  {
   "cell_type": "code",
   "execution_count": 690,
   "metadata": {},
   "outputs": [
    {
     "name": "stdout",
     "output_type": "stream",
     "text": [
      "133\n",
      "133\n",
      "96.2406015037594\n"
     ]
    }
   ],
   "source": [
    "accuracy = getAccuracy(fw,y,teT)\n",
    "print(accuracy)"
   ]
  },
  {
   "cell_type": "code",
   "execution_count": 691,
   "metadata": {},
   "outputs": [],
   "source": [
    "def drawPlot(epochs,error):\n",
    "    dummy, axis = plt.subplots()  \n",
    "    axis.plot(np.arange(epochs), error, 'r')  \n",
    "    axis.set_xlabel('Epochs')  \n",
    "    axis.set_ylabel('Error')  \n",
    "    axis.set_title('Error vs. Epoch') "
   ]
  },
  {
   "cell_type": "code",
   "execution_count": 692,
   "metadata": {},
   "outputs": [
    {
     "data": {
      "image/png": "[encoded data removed]",
      "text/plain": [
       "<Figure size 432x288 with 1 Axes>"
      ]
     },
     "metadata": {},
     "output_type": "display_data"
    }
   ],
   "source": [
    "drawPlot(epochs,error)"
   ]
  },
  {
   "cell_type": "code",
   "execution_count": null,
   "metadata": {},
   "outputs": [],
   "source": []
  }
 ],
 "metadata": {
  "kernelspec": {
   "display_name": "Python 3",
   "language": "python",
   "name": "python3"
  },
  "language_info": {
   "codemirror_mode": {
    "name": "ipython",
    "version": 3
   },
   "file_extension": ".py",
   "mimetype": "text/x-python",
   "name": "python",
   "nbconvert_exporter": "python",
   "pygments_lexer": "ipython3",
   "version": "3.6.5"
  }
 },
 "nbformat": 4,
 "nbformat_minor": 2
}
